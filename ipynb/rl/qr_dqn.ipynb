{
  "nbformat": 4,
  "nbformat_minor": 0,
  "metadata": {
    "colab": {
      "name": "qr_dqn.ipynb",
      "provenance": [],
      "collapsed_sections": [],
      "authorship_tag": "ABX9TyOKJnk94sE1HaZt7G4biM4L",
      "include_colab_link": true
    },
    "kernelspec": {
      "name": "python3",
      "display_name": "Python 3"
    }
  },
  "cells": [
    {
      "cell_type": "markdown",
      "metadata": {
        "id": "view-in-github",
        "colab_type": "text"
      },
      "source": [
        "<a href=\"https://colab.research.google.com/github/komo135/forex-prediction/blob/master/ipynb/rl/qr_dqn.ipynb\" target=\"_parent\"><img src=\"https://colab.research.google.com/assets/colab-badge.svg\" alt=\"Open In Colab\"/></a>"
      ]
    },
    {
      "cell_type": "code",
      "metadata": {
        "colab_type": "code",
        "id": "vtJ6_QRbHucx",
        "outputId": "47b43d76-4e09-4e4a-8521-29fda3ec3a1b",
        "colab": {
          "base_uri": "https://localhost:8080/",
          "height": 51
        }
      },
      "source": [
        "# Google ドライブをマウントするには、このセルを実行してください。\n",
        "from google.colab import drive\n",
        "drive.mount('/content/drive')\n",
        "\n",
        "%cd drive/My Drive"
      ],
      "execution_count": 1,
      "outputs": [
        {
          "output_type": "stream",
          "text": [
            "Mounted at /content/drive\n",
            "/content/drive/My Drive\n"
          ],
          "name": "stdout"
        }
      ]
    },
    {
      "cell_type": "code",
      "metadata": {
        "colab_type": "code",
        "id": "nPAcy7EKniBL",
        "colab": {}
      },
      "source": [
        "%tensorflow_version 2.x\n",
        "import tensorflow as tf\n",
        "import numpy as np"
      ],
      "execution_count": 0,
      "outputs": []
    },
    {
      "cell_type": "code",
      "metadata": {
        "colab_type": "code",
        "id": "LBbFS0xIHubh",
        "outputId": "060ba9c6-e24f-4d46-f30a-403512a27ed2",
        "colab": {
          "base_uri": "https://localhost:8080/",
          "height": 88
        }
      },
      "source": [
        "%cd /content/drive/My Drive\n",
        "\n",
        "try:\n",
        "  import imp\n",
        "  imp.reload(qr_dqn)\n",
        "except:\n",
        "  import qr_dqn\n",
        "\n",
        "agent = qr_dqn.Agent(restore=True, n=3, lr=1e-3)"
      ],
      "execution_count": 15,
      "outputs": [
        {
          "output_type": "stream",
          "text": [
            "/content/drive/My Drive\n",
            "WARNING:tensorflow:Error in loading the saved optimizer state. As a result, your model is starting with a freshly initialized optimizer.\n",
            "WARNING:tensorflow:Error in loading the saved optimizer state. As a result, your model is starting with a freshly initialized optimizer.\n"
          ],
          "name": "stdout"
        }
      ]
    },
    {
      "cell_type": "code",
      "metadata": {
        "colab_type": "code",
        "id": "eG6AXzJYNXt5",
        "outputId": "0b252f71-614b-4ab9-ad01-dffd25676615",
        "colab": {
          "base_uri": "https://localhost:8080/",
          "height": 1000
        }
      },
      "source": [
        "%cd /content\n",
        "agent.run(train=True)"
      ],
      "execution_count": 0,
      "outputs": [
        {
          "output_type": "stream",
          "text": [
            "/content\n",
            "action probability: buy=0.2916666666666667, sell=0.3020833333333333, hold=0.40625\n",
            "epoch: 87000, total assets:2134.7218506003146, growth_rate:0.021347218506003147\n",
            "\n",
            "action probability: buy=0.25, sell=0.2916666666666667, hold=0.4583333333333333\n",
            "epoch: 87005, total assets:8765.080222878933, growth_rate:0.08765080222878932\n",
            "\n",
            "action probability: buy=0.21875, sell=0.3958333333333333, hold=0.3854166666666667\n",
            "epoch: 87010, total assets:10551.548784993714, growth_rate:0.10551548784993714\n",
            "\n",
            "action probability: buy=0.375, sell=0.20833333333333334, hold=0.4166666666666667\n",
            "epoch: 87015, total assets:5823.101660042932, growth_rate:0.05823101660042932\n",
            "\n",
            "action probability: buy=0.25, sell=0.34375, hold=0.40625\n",
            "epoch: 87020, total assets:40071.24125462755, growth_rate:0.40071241254627554\n",
            "\n",
            "action probability: buy=0.2708333333333333, sell=0.3333333333333333, hold=0.3958333333333333\n",
            "epoch: 87025, total assets:90831.53191368667, growth_rate:0.9083153191368667\n",
            "\n",
            "action probability: buy=0.3645833333333333, sell=0.3645833333333333, hold=0.2708333333333333\n",
            "epoch: 87030, total assets:47834.3197680442, growth_rate:0.47834319768044203\n",
            "\n",
            "action probability: buy=0.19791666666666666, sell=0.4166666666666667, hold=0.3854166666666667\n",
            "epoch: 87035, total assets:6971.042237711636, growth_rate:0.06971042237711636\n",
            "\n",
            "action probability: buy=0.21875, sell=0.3854166666666667, hold=0.3958333333333333\n",
            "epoch: 87040, total assets:832.6586895356933, growth_rate:0.008326586895356933\n",
            "\n",
            "action probability: buy=0.2916666666666667, sell=0.3229166666666667, hold=0.3854166666666667\n",
            "epoch: 87045, total assets:1233.290918753046, growth_rate:0.012332909187530461\n",
            "\n",
            "action probability: buy=0.28125, sell=0.34375, hold=0.375\n",
            "epoch: 87050, total assets:3292.479054862122, growth_rate:0.03292479054862122\n",
            "\n",
            "action probability: buy=0.2708333333333333, sell=0.2916666666666667, hold=0.4375\n",
            "epoch: 87055, total assets:9171.884457457023, growth_rate:0.09171884457457023\n",
            "\n",
            "action probability: buy=0.21875, sell=0.2916666666666667, hold=0.4895833333333333\n",
            "epoch: 87060, total assets:650708.2881573434, growth_rate:6.507082881573434\n",
            "\n",
            "action probability: buy=0.10416666666666667, sell=0.22916666666666666, hold=0.6666666666666666\n",
            "epoch: 87065, total assets:543.678844410194, growth_rate:0.00543678844410194\n",
            "\n",
            "action probability: buy=0.3958333333333333, sell=0.16666666666666666, hold=0.4375\n",
            "epoch: 87070, total assets:485.95205550724273, growth_rate:0.004859520555072427\n",
            "\n",
            "action probability: buy=0.4270833333333333, sell=0.3958333333333333, hold=0.17708333333333334\n",
            "epoch: 87075, total assets:102366.6711305357, growth_rate:1.023666711305357\n",
            "\n",
            "action probability: buy=0.23958333333333334, sell=0.5625, hold=0.19791666666666666\n",
            "epoch: 87080, total assets:586.9337872403959, growth_rate:0.005869337872403959\n",
            "\n",
            "action probability: buy=0.4583333333333333, sell=0.3020833333333333, hold=0.23958333333333334\n",
            "epoch: 87085, total assets:516.8207585479504, growth_rate:0.005168207585479504\n",
            "\n",
            "action probability: buy=0.5625, sell=0.19791666666666666, hold=0.23958333333333334\n",
            "epoch: 87090, total assets:10412.5294430554, growth_rate:0.104125294430554\n",
            "\n",
            "action probability: buy=0.1875, sell=0.4895833333333333, hold=0.3229166666666667\n",
            "epoch: 87095, total assets:131277.4036911428, growth_rate:1.312774036911428\n",
            "\n",
            "action probability: buy=0.3229166666666667, sell=0.2916666666666667, hold=0.3854166666666667\n",
            "epoch: 87100, total assets:35489.547711401116, growth_rate:0.35489547711401115\n",
            "\n",
            "action probability: buy=0.3541666666666667, sell=0.3020833333333333, hold=0.34375\n",
            "epoch: 87105, total assets:2509.9436926490234, growth_rate:0.025099436926490235\n",
            "\n",
            "action probability: buy=0.14583333333333334, sell=0.3125, hold=0.5416666666666666\n",
            "epoch: 87110, total assets:2840.605133275255, growth_rate:0.02840605133275255\n",
            "\n",
            "action probability: buy=0.4375, sell=0.3125, hold=0.25\n",
            "epoch: 87115, total assets:378677.4065893469, growth_rate:3.7867740658934688\n",
            "\n",
            "action probability: buy=0.4791666666666667, sell=0.2708333333333333, hold=0.25\n",
            "epoch: 87120, total assets:17929.107705702885, growth_rate:0.17929107705702885\n",
            "\n",
            "action probability: buy=0.4791666666666667, sell=0.20833333333333334, hold=0.3125\n",
            "epoch: 87125, total assets:1209.4806800109193, growth_rate:0.012094806800109192\n",
            "\n",
            "action probability: buy=0.3541666666666667, sell=0.3125, hold=0.3333333333333333\n",
            "epoch: 87130, total assets:8918.669502018489, growth_rate:0.08918669502018489\n",
            "\n",
            "action probability: buy=0.5208333333333334, sell=0.2604166666666667, hold=0.21875\n",
            "epoch: 87135, total assets:8084.289612038583, growth_rate:0.08084289612038584\n",
            "\n",
            "action probability: buy=0.3854166666666667, sell=0.21875, hold=0.3958333333333333\n",
            "epoch: 87140, total assets:12699.193760875049, growth_rate:0.1269919376087505\n",
            "\n",
            "action probability: buy=0.3645833333333333, sell=0.2708333333333333, hold=0.3645833333333333\n",
            "epoch: 87145, total assets:36355.12694522698, growth_rate:0.3635512694522698\n",
            "\n"
          ],
          "name": "stdout"
        }
      ]
    },
    {
      "cell_type": "code",
      "metadata": {
        "id": "Ix4C6sEEgs_c",
        "colab_type": "code",
        "colab": {}
      },
      "source": [
        "import numpy as np\n",
        "tree_idx, replay = agent.memory.sample(128)\n",
        "\n",
        "states = np.array([a[0][0] for a in replay], np.float32)\n",
        "new_states = np.array([a[0][3] for a in replay], np.float32)\n",
        "actions = np.array([a[0][1] for a in replay]).reshape((-1, 1))\n",
        "rewards = np.array([a[0][2] for a in replay], np.float32).reshape((-1, 1))\n",
        "\n",
        "q = agent.model(states)\n",
        "target_q = agent.target_model(new_states).numpy()\n",
        "arg_q = np.sum(agent.model(new_states).numpy(), -1).reshape((-1,2))\n",
        "arg_q = np.argmax(arg_q, -1)\n",
        "# arg_q = [np.argmax(i) if 0.05 < np.random.rand() else np.random.randint(2) for i in arg_q]\n",
        "\n",
        "q_backup = q.numpy()\n",
        "\n",
        "for i in range(q.shape[0]):\n",
        "  q_backup[i, actions[i]] = rewards[i] + agent.gamma * target_q[i, arg_q[i]]\n",
        "\n",
        "\n",
        "error = tf.abs(q_backup - q)\n",
        "# q_error = tf.maximum(self.tau * error, (self.tau - 1) * error)\n",
        "loss = tf.where(error < 2, error ** 2 * .5, 2 * error - 0.5 * 2 ** 2)\n",
        "loss *= tf.abs(agent.tau - tf.stop_gradient(tf.cast((q_backup - q) < 0, tf.float32)))\n",
        "# loss = agent.huber_loss(q_backup, q)\n",
        "# loss = tf.abs(agent.tau - tf.stop_gradient(tf.cast((q_backup - q) < 0, tf.float32))) * loss\n",
        "# loss = tf.reduce_sum(loss, 2)\n",
        "\n",
        "# print(q)"
      ],
      "execution_count": 0,
      "outputs": []
    },
    {
      "cell_type": "code",
      "metadata": {
        "id": "8khh1tJJg_8L",
        "colab_type": "code",
        "outputId": "b3386a76-7b6f-4bb6-c6de-9d6740c6112a",
        "colab": {
          "base_uri": "https://localhost:8080/",
          "height": 1000
        }
      },
      "source": [
        "np.sum(agent.model.predict_on_batch(new_states), -1).astype(np.int32)"
      ],
      "execution_count": 14,
      "outputs": [
        {
          "output_type": "execute_result",
          "data": {
            "text/plain": [
              "array([[-138978,  -42136, -106470],\n",
              "       [ -65316,  -56299, -171827],\n",
              "       [ -39747,  -30925, -131847],\n",
              "       [-117627,  -40959, -104135],\n",
              "       [ -49723,  -72893,  -23653],\n",
              "       [-101974,  -19158,  -92798],\n",
              "       [ -88921,  -44127,  -64252],\n",
              "       [  -3621,  -89915,  -26602],\n",
              "       [ -34899,  -27829,  -25161],\n",
              "       [ -41012, -251874,  -84328],\n",
              "       [ -17213,  -71030,  -52134],\n",
              "       [-106178,  -76908,  -54928],\n",
              "       [ -60091,  -56785,  -82189],\n",
              "       [-138154,  -92672,  -63639],\n",
              "       [ -16683, -185027,  -50387],\n",
              "       [ -41461,  -75815,  -15053],\n",
              "       [ -93275,   50476,  -97672],\n",
              "       [ -83211,  -32529,  -78591],\n",
              "       [-111472,  -52040,  -71190],\n",
              "       [ -72873, -100496,   -8255],\n",
              "       [-116064,   30547,  -69601],\n",
              "       [-107772,  -56543,  -79324],\n",
              "       [ -62770,  -62183,  -43893],\n",
              "       [-243135,  -21294, -124733],\n",
              "       [ -92595,  -65489,  -43723],\n",
              "       [-112587, -141119,     953],\n",
              "       [ -75065, -111467,  -72057],\n",
              "       [ -64808,  -33368,  -52356],\n",
              "       [ -24295,  -38552,  -33803],\n",
              "       [ -51833,  -79448, -119426],\n",
              "       [ -72695,  -78979,  -59994],\n",
              "       [-105435,  -10052,  -54082],\n",
              "       [-164076,  -70657,  -70232],\n",
              "       [ -74939,  -68305,   10190],\n",
              "       [ -74599,  -88490,  -79076],\n",
              "       [ -36585,  -73262, -115451],\n",
              "       [-174740,  -62014,  -54440],\n",
              "       [ -57744,  -52172,  -64968],\n",
              "       [-143688,  -47085, -100084],\n",
              "       [ -60933,   21040,  -67268],\n",
              "       [ -88521,  -69193,   -9394],\n",
              "       [ -72008,  -66686,  -72625],\n",
              "       [ -62962,  -75804,   -3310],\n",
              "       [ -65616, -156435,  -62288],\n",
              "       [ -73886,  -82586,  -80460],\n",
              "       [ -97893,  -98764, -149150],\n",
              "       [-183453, -123541, -109155],\n",
              "       [ -78926,  -61389,  -41385],\n",
              "       [ -89502,  -63842,   10851],\n",
              "       [ 111993, -145869,  -39052],\n",
              "       [ -45464,  -86040,  -23625],\n",
              "       [ -47009,  -81394,  -28343],\n",
              "       [-291738, -105754, -204794],\n",
              "       [-200558, -178677, -106471],\n",
              "       [-100423,  -96873, -128450],\n",
              "       [ -95120,  -16194,  -74312],\n",
              "       [-158728, -108060, -135201],\n",
              "       [-131848,  -46190,  -78334],\n",
              "       [ -97407, -109046, -102798],\n",
              "       [-100337,  -89791,  -46335],\n",
              "       [ -82852,  -70956,   -5563],\n",
              "       [  55376, -195225,  -59211],\n",
              "       [-302556,  -77728, -140350],\n",
              "       [ -70107,  -54290,  -59683],\n",
              "       [ -19301,  -64207, -146936],\n",
              "       [ -67073, -146026,  -53917],\n",
              "       [-216352,  -71791, -108681],\n",
              "       [ -50596,  -66670,  -63437],\n",
              "       [ -87292,  -99745,  -40274],\n",
              "       [ -83620,  -64481,  -98154],\n",
              "       [ -46145,  -88158,   -5391],\n",
              "       [     38,  -81537,  -27938],\n",
              "       [ -72625,  -64230,  -61142],\n",
              "       [-104638,  -96462,  -77277],\n",
              "       [ -66151,  -53043,  -73202],\n",
              "       [ -22022,  -59125,  -62250],\n",
              "       [ -35458,   -7532,  -62383],\n",
              "       [ -39118, -106637, -104064],\n",
              "       [ -42290,  -38036, -128798],\n",
              "       [-134524,  -87349,  -80847],\n",
              "       [-153542, -107464,  -56283],\n",
              "       [-105002,  -92097,  -54954],\n",
              "       [ -36989,  -39023,  -80706],\n",
              "       [ -67172,  -51531,  -40396],\n",
              "       [-128818, -107055,  -39521],\n",
              "       [ -51982,  -29153,  -21123],\n",
              "       [ -51643,  -97140, -110509],\n",
              "       [ -92350, -113992,  -25312],\n",
              "       [  19589, -103141, -111415],\n",
              "       [ -39736,  -59658,  -92410],\n",
              "       [ -81361, -114161,  -41995],\n",
              "       [ -97189,  -64038,  -83847],\n",
              "       [ -52093,  -69660,   -9796],\n",
              "       [ -39124,   -8982,  -42747],\n",
              "       [ -17684,  -59771,  -93888],\n",
              "       [ -52662,  -25653,  -71522],\n",
              "       [-134367, -107929,  -18187],\n",
              "       [ -70072,  -83302,  -87624],\n",
              "       [ -29451,  -70789, -112882],\n",
              "       [ -59394,  -38486,  -59140],\n",
              "       [-140786,  -15786,  -16903],\n",
              "       [ -87777, -130879, -107887],\n",
              "       [ -51854,  -85950,  -49150],\n",
              "       [ -38602,  -99980,  -62057],\n",
              "       [ -86741,    -798,  -63052],\n",
              "       [-122643,  -21548,  -48140],\n",
              "       [ -78335,  -29395,  -68302],\n",
              "       [  -7990,  -78223,  -33149],\n",
              "       [ -52902,  -43784,  -94809],\n",
              "       [ -83495,   -4802,  -64279],\n",
              "       [ -93544,  -72851, -116578],\n",
              "       [ -33414,  -38106,  -22319],\n",
              "       [  -6143,  -61238,  -79372],\n",
              "       [ -26084,  -49612,  -20603],\n",
              "       [ -68287, -102226,  -44927],\n",
              "       [ -44717,  -14198,  -44943],\n",
              "       [ -23517,  -51111,    6613],\n",
              "       [-145091, -103665,  -74327],\n",
              "       [ -22995,  -63525,  -73029],\n",
              "       [ -91523,  -51609,  -72527],\n",
              "       [ -30097,  -57903,  -64120],\n",
              "       [ -38419,  -91499,  -71883],\n",
              "       [-125207, -107989, -102560],\n",
              "       [ -32114,  -72844,  -60860],\n",
              "       [ -16741, -118091,  -81916],\n",
              "       [ -77577,  -80413,  -60129],\n",
              "       [-144179, -132101,  -38529],\n",
              "       [-101042,  -70102, -125477]], dtype=int32)"
            ]
          },
          "metadata": {
            "tags": []
          },
          "execution_count": 14
        }
      ]
    },
    {
      "cell_type": "code",
      "metadata": {
        "id": "JCtPDndkar2G",
        "colab_type": "code",
        "colab": {}
      },
      "source": [
        "np.sum(q_backup, -1).astype(np.int32)"
      ],
      "execution_count": 0,
      "outputs": []
    },
    {
      "cell_type": "code",
      "metadata": {
        "id": "Eia3APxajPBN",
        "colab_type": "code",
        "colab": {}
      },
      "source": [
        "agent.run(train=False)"
      ],
      "execution_count": 0,
      "outputs": []
    },
    {
      "cell_type": "code",
      "metadata": {
        "id": "F4veHNzTq-P2",
        "colab_type": "code",
        "colab": {}
      },
      "source": [
        "a = agent.model.predict_on_batch(states)\n",
        "b = agent.model(states)\n",
        "\n",
        "np.mean(a == b)"
      ],
      "execution_count": 0,
      "outputs": []
    }
  ]
}